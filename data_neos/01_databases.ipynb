{
 "cells": [
  {
   "cell_type": "markdown",
   "metadata": {},
   "source": [
    "Created Database, Added appehelion and perihelion distances, and Class of NEOs"
   ]
  },
  {
   "cell_type": "code",
   "execution_count": 9,
   "metadata": {},
   "outputs": [
    {
     "name": "stdout",
     "output_type": "stream",
     "text": [
      "Our NEODyS file path: raw_data/neodys.cat\n"
     ]
    }
   ],
   "source": [
    "import re\n",
    "import requests\n",
    "import pathlib\n",
    "import sqlite3\n",
    "\n",
    "# defining the directory and name of the NEODyS data\n",
    "raw_data_dir = pathlib.Path(\"raw_data/\")\n",
    "raw_data_file = pathlib.Path(\"neodys.cat\")\n",
    "\n",
    "raw_data_filepath = raw_data_dir / raw_data_file\n",
    "print(f\"Our NEODyS file path: {raw_data_filepath}\")\n",
    "\n",
    "pathlib.Path.mkdir(raw_data_dir, exist_ok=True)"
   ]
  },
  {
   "cell_type": "code",
   "execution_count": 10,
   "metadata": {},
   "outputs": [],
   "source": [
    "# Download the NEODyS file and store it locally but updates if the website updates\n",
    "response = requests.get(\"https://newton.spacedys.com/~neodys2/neodys.cat\")\n",
    "download_file_path = pathlib.Path(raw_data_filepath)\n",
    "with download_file_path.open(mode=\"wb+\") as file_obj:\n",
    "    file_obj.write(response.content)"
   ]
  },
  {
   "cell_type": "code",
   "execution_count": 11,
   "metadata": {},
   "outputs": [],
   "source": [
    "# set the placeholder dict where the data will be stored, Data cleaning\n",
    "neo_dict = []\n",
    "\n",
    "# Open the NEODys file. Ignore the header (first 6 rows)\n",
    "with open(raw_data_filepath) as f_temp:\n",
    "    neo_data = f_temp.readlines()[6:]\n",
    "\n",
    "\n",
    "    for neo_data_line_f in neo_data:\n",
    "        neo_data_line = neo_data_line_f.split()\n",
    "        neo_dict.append(\n",
    "            {\n",
    "                \"Name\": neo_data_line[0].replace(\"'\", \"\"),\n",
    "                \"Epoch_MJD\": float(neo_data_line[1]),\n",
    "                \"SemMajAxis_AU\": float(neo_data_line[2]),\n",
    "                \"Ecc_\": float(neo_data_line[3]),\n",
    "                \"Incl_deg\": float(neo_data_line[4]),\n",
    "                \"LongAscNode_deg\": float(neo_data_line[5]),\n",
    "                \"ArgP_deg\": float(neo_data_line[6]),\n",
    "                \"MeanAnom_deg\": float(neo_data_line[7]),\n",
    "                \"AbsMag_\": float(neo_data_line[8]),\n",
    "                \"SlopeParamG_\": float(neo_data_line[9]),\n",
    "            }\n",
    "        )\n",
    "\n"
   ]
  },
  {
   "cell_type": "code",
   "execution_count": 12,
   "metadata": {},
   "outputs": [
    {
     "data": {
      "text/plain": [
       "[{'Name': '433',\n",
       "  'Epoch_MJD': 60000.0,\n",
       "  'SemMajAxis_AU': 1.458129137561811,\n",
       "  'Ecc_': 0.22278187193561982,\n",
       "  'Incl_deg': 10.827822059970396,\n",
       "  'LongAscNode_deg': 304.2870240036129,\n",
       "  'ArgP_deg': 178.92698564290663,\n",
       "  'MeanAnom_deg': 110.77766380976027,\n",
       "  'AbsMag_': 10.91,\n",
       "  'SlopeParamG_': 0.46}]"
      ]
     },
     "execution_count": 12,
     "metadata": {},
     "output_type": "execute_result"
    }
   ],
   "source": [
    "neo_dict[:1]"
   ]
  },
  {
   "cell_type": "code",
   "execution_count": 13,
   "metadata": {},
   "outputs": [],
   "source": [
    "# Now creation of the database for NEODyS\n",
    "database_dir = pathlib.Path(\"../databases/neos/\")\n",
    "database_file = pathlib.Path(\"neodys.db\")\n",
    "database_filepath = database_dir / database_file\n",
    "\n",
    "# create directory\n",
    "pathlib.Path.mkdir(database_dir, parents=True, exist_ok=True)\n",
    "\n",
    "# Establish a connection to the database and set a cursor\n",
    "neodys_db_con = sqlite3.connect(database_filepath)\n",
    "neodys_db_cur = neodys_db_con.cursor()"
   ]
  },
  {
   "cell_type": "code",
   "execution_count": 14,
   "metadata": {},
   "outputs": [],
   "source": [
    "# inserting raw data into database\n",
    "neodys_db_cur.executemany(\n",
    "    \"INSERT OR IGNORE INTO main\"\n",
    "    \"(Name,\"\n",
    "    \"Epoch_MJD, \"\n",
    "    \"SemMajAxis_AU, \"\n",
    "    \"Ecc_, \"\n",
    "    \"Incl_deg, \"\n",
    "    \"LongAscNode_deg, \"\n",
    "    \"ArgP_deg, \"\n",
    "    \"MeanAnom_deg, \"\n",
    "    \"AbsMag_, \"\n",
    "    \"SlopeParamG_) \"\n",
    "\n",
    "    \"VALUES (:Name, \"\n",
    "    \":Epoch_MJD, \"\n",
    "    \":SemMajAxis_AU, \"\n",
    "    \":Ecc_, \"\n",
    "    \":Incl_deg, \"\n",
    "    \":LongAscNode_deg, \"\n",
    "    \":ArgP_deg, \"\n",
    "    \":MeanAnom_deg, \"\n",
    "    \":AbsMag_, \"\n",
    "    \":SlopeParamG_)\",\n",
    "    neo_dict,\n",
    ")\n",
    "\n",
    "neodys_db_con.commit()"
   ]
  },
  {
   "cell_type": "code",
   "execution_count": 17,
   "metadata": {},
   "outputs": [],
   "source": [
    "for col_name  in [\"Aphel_AU\", \"Perihel_AU\"]:\n",
    "    sql_col_create = f\"ALTER TABLE main ADD COLUMN {col_name} FLOAT\"\n",
    "\n",
    "    try:\n",
    "        neodys_db_cur.execute(sql_col_create)\n",
    "        neodys_db_con.commit()\n",
    "    except sqlite3.OperationalError:\n",
    "\n",
    "        pass"
   ]
  },
  {
   "cell_type": "code",
   "execution_count": 18,
   "metadata": {},
   "outputs": [
    {
     "name": "stdout",
     "output_type": "stream",
     "text": [
      "[('433', 1.458129137561811, 0.22278187193561982), ('719', 2.636157148592985, 0.5467795300870554), ('887', 2.4725249968381324, 0.571093307295404), ('1036', 2.665298762177105, 0.5328259144094559), ('1221', 1.9201538890303416, 0.4347182162486856)]\n"
     ]
    }
   ],
   "source": [
    "# fetching the data to make sure it has been transported and executes\n",
    "neodys_db_cur.execute(\"SELECT Name, SemMajAxis_AU, Ecc_ FROM main LIMIT 5\")\n",
    "_neo_data = neodys_db_cur.fetchall() # outputs list of tuples\n",
    "print(_neo_data)"
   ]
  },
  {
   "cell_type": "code",
   "execution_count": 19,
   "metadata": {},
   "outputs": [],
   "source": [
    "neodys_db_cur.execute(\"SELECT Name, SemMajAxis_AU, Ecc_ FROM main\")\n",
    "\n",
    "# Fetching cursors\n",
    "_neo_data = neodys_db_cur.fetchall()\n",
    "\n",
    "_neo_deriv_param_dict = []\n",
    "for _neo_data_line_f in _neo_data:\n",
    "    _neo_deriv_param_dict.append(\n",
    "        {\n",
    "            \"Name\": _neo_data_line_f[0],\n",
    "            \"Aphel_AU\": (1.0 + _neo_data_line_f[2]) * _neo_data_line_f[1],\n",
    "            \"Perihel_AU\": (1.0 - _neo_data_line_f[2]) * _neo_data_line_f[1],\n",
    "        }\n",
    "    )\n",
    "\n",
    "neodys_db_cur.executemany(\n",
    "    \"UPDATE main SET Aphel_AU = :Aphel_AU, Perihel_AU = :Perihel_AU \"\n",
    "    \"WHERE Name = :Name\",\n",
    "    _neo_deriv_param_dict,\n",
    ")\n",
    "\n",
    "neodys_db_con.commit()"
   ]
  },
  {
   "cell_type": "code",
   "execution_count": 20,
   "metadata": {},
   "outputs": [],
   "source": [
    "def neo_class(sem_maj_axis_au: float,\n",
    "            peri_helio_au: float,\n",
    "            ap_helio_au: float) -> str:\n",
    "\n",
    "    \"\"\"\n",
    "    Classifies Near-Earth Objects (NEOs) based on their orbital parameters.\n",
    "\n",
    "    Parameters\n",
    "    ----------\n",
    "    sem_maj_axis_au : float\n",
    "        Semi-major axis of the NEO's orbit in astronomical units (AU).\n",
    "    peri_helio_au : float\n",
    "        Perihelion distance of the NEO's orbit in astronomical units (AU).\n",
    "    ap_helio_au : float\n",
    "        Aphelion distance of the NEO's orbit in astronomical units (AU).\n",
    "\n",
    "    Returns\n",
    "    -------\n",
    "    str\n",
    "        The classification of the NEO. Possible values are:\n",
    "        - \"Amor\"\n",
    "        - \"Apollo\"\n",
    "        - \"Aten\"\n",
    "        - \"Atira\"\n",
    "        - \"Other\"\n",
    "\n",
    "    Notes\n",
    "    -----\n",
    "    The classification is based on the criteria provided by NASA's\n",
    "    Center for Near Earth Object Studies (CNEOS):\n",
    "    https://cneos.jpl.nasa.gov/about/neo_groups.html\n",
    "\n",
    "    Examples\n",
    "    --------\n",
    "    >>> neo_class(1.1, 1.1, 1.2)\n",
    "    'Amor'\n",
    "    >>> neo_class(1.1, 0.9, 1.2)\n",
    "    'Apollo'\n",
    "    >>> neo_class(0.9, 0.9, 1.0)\n",
    "    'Aten'\n",
    "    >>> neo_class(0.9, 0.9, 0.9)\n",
    "    'Atira'\n",
    "    >>> neo_class(1.5, 1.5, 1.5)\n",
    "    'Other'\n",
    "    \"\"\"\n",
    "\n",
    "    if (sem_maj_axis_au > 1.0) and (1.017 < peri_helio_au < 1.3):\n",
    "        neo_type = \"Amor\"\n",
    "\n",
    "    elif (sem_maj_axis_au > 1.0) and (peri_helio_au < 1.017):\n",
    "        neo_type = \"Apollo\"\n",
    "\n",
    "    elif (sem_maj_axis_au < 1.0) and (ap_helio_au > 0.983):\n",
    "        neo_type = \"Aten\"\n",
    "\n",
    "    elif (sem_maj_axis_au < 1.0) and (ap_helio_au < 0.983):\n",
    "        neo_type = \"Atira\"\n",
    "\n",
    "    else:\n",
    "        neo_type = \"Other\"\n",
    "\n",
    "    return neo_type"
   ]
  },
  {
   "cell_type": "code",
   "execution_count": 21,
   "metadata": {},
   "outputs": [],
   "source": [
    "def create_col(sqlitecon: sqlite3.Connection,\n",
    "                sqlitecur: sqlite3.Cursor,\n",
    "                table: str,\n",
    "                col_name: str,\n",
    "                col_type: str) -> None:\n",
    "\n",
    "    \"\"\"\n",
    "    Function to create new columns in table database.\n",
    "    \"\"\"\n",
    "\n",
    "    sql_col_create = f\"ALTER TABLE {table} ADD COLUMN {col_name} {col_type}\"\n",
    "\n",
    "    try:\n",
    "        sqlitecur.execute(sql_col_create)\n",
    "        sqlitecon.commit()\n",
    "    except sqlite3.OperationalError:\n",
    "        pass\n"
   ]
  },
  {
   "cell_type": "code",
   "execution_count": 22,
   "metadata": {},
   "outputs": [],
   "source": [
    "create_col(sqlitecon=neodys_db_con,\n",
    "            sqlitecur=neodys_db_cur,\n",
    "            table=\"main\",\n",
    "            col_name=\"NEOClass\",\n",
    "            col_type=\"Text\")"
   ]
  },
  {
   "cell_type": "code",
   "execution_count": 23,
   "metadata": {},
   "outputs": [],
   "source": [
    "# get the orbital elements to compute the NEO class\n",
    "neodys_db_cur.execute(\"SELECT Name, SemMajAxis_AU, Perihel_AU, Aphel_AU FROM main\")\n",
    "\n",
    "# fetch the data\n",
    "neo_data = neodys_db_cur.fetchall()\n",
    "\n",
    "# fetchall gives list of tuple, iterate and add it in the dict.abs\n",
    "neo_class_param_dict = []\n",
    "for neo_data_row in neo_data:\n",
    "    neo_class_param_dict.append(\n",
    "        {\n",
    "            \"Name\": neo_data_row[0],\n",
    "            \"NEOClass\": neo_class(\n",
    "                sem_maj_axis_au=neo_data_row[1],\n",
    "                peri_helio_au=neo_data_row[2],\n",
    "                ap_helio_au=neo_data_row[3]\n",
    "            )\n",
    "        }\n",
    "    )\n",
    "\n",
    "# Insert into database\n",
    "neodys_db_cur.executemany(\n",
    "    \"UPDATE main SET NEOClass = :NEOClass \" # extra space not to concatenate WHERE statement\n",
    "    \"WHERE Name = :Name\",\n",
    "    neo_class_param_dict\n",
    ")\n",
    "\n",
    "neodys_db_con.commit()"
   ]
  },
  {
   "cell_type": "markdown",
   "metadata": {},
   "source": []
  }
 ],
 "metadata": {
  "kernelspec": {
   "display_name": "orrery",
   "language": "python",
   "name": "python3"
  },
  "language_info": {
   "codemirror_mode": {
    "name": "ipython",
    "version": 3
   },
   "file_extension": ".py",
   "mimetype": "text/x-python",
   "name": "python",
   "nbconvert_exporter": "python",
   "pygments_lexer": "ipython3",
   "version": "3.12.6"
  }
 },
 "nbformat": 4,
 "nbformat_minor": 2
}
